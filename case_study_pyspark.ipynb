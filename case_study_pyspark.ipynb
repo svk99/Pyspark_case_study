{
  "nbformat": 4,
  "nbformat_minor": 0,
  "metadata": {
    "colab": {
      "provenance": []
    },
    "kernelspec": {
      "name": "python3",
      "display_name": "Python 3"
    },
    "language_info": {
      "name": "python"
    }
  },
  "cells": [
    {
      "cell_type": "code",
      "execution_count": null,
      "metadata": {
        "id": "fzFp9O-lODcM"
      },
      "outputs": [],
      "source": [
        "pip install pyspark"
      ]
    },
    {
      "cell_type": "code",
      "source": [
        "from pyspark.sql import SparkSession\n",
        "from pyspark.sql.functions import col, when\n",
        "\n",
        "# Create a Spark session\n",
        "spark = SparkSession.builder.appName(\"StockStreamingApp\").getOrCreate()\n",
        "\n",
        "# Step a: Read static data of the previous max price\n",
        "static_data_path = \"/content/Previous Max Price file.csv\"\n",
        "static_data = spark.read.csv(static_data_path, header=True)"
      ],
      "metadata": {
        "id": "AGDRESOvOd1p"
      },
      "execution_count": 2,
      "outputs": []
    },
    {
      "cell_type": "code",
      "source": [
        "print(static_data)"
      ],
      "metadata": {
        "colab": {
          "base_uri": "https://localhost:8080/"
        },
        "id": "FeRIY5eHOhi4",
        "outputId": "5c0c235d-9d2e-450b-949a-9179534f1a58"
      },
      "execution_count": 4,
      "outputs": [
        {
          "output_type": "stream",
          "name": "stdout",
          "text": [
            "DataFrame[_c0: string, Stock Symbol: string, Previous Max Price: string]\n"
          ]
        }
      ]
    }
  ]
}